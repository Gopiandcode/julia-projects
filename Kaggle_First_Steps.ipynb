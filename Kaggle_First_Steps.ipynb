{
 "cells": [
  {
   "cell_type": "code",
   "execution_count": 52,
   "metadata": {},
   "outputs": [
    {
     "name": "stderr",
     "output_type": "stream",
     "text": [
      "\u001b[1m\u001b[36mINFO: \u001b[39m\u001b[22m\u001b[36mPackage Images is already installed\n",
      "\u001b[39m\u001b[1m\u001b[36mINFO: \u001b[39m\u001b[22m\u001b[36mPackage DataFrames is already installed\n",
      "\u001b[39m\u001b[1m\u001b[36mINFO: \u001b[39m\u001b[22m\u001b[36mPackage ImageMagick is already installed\n",
      "\u001b[39m\u001b[1m\u001b[36mINFO: \u001b[39m\u001b[22m\u001b[36mPackage CSV is already installed\n",
      "\u001b[39m\u001b[1m\u001b[36mINFO: \u001b[39m\u001b[22m\u001b[36mPackage DecisionTree is already installed\n",
      "\u001b[39m\u001b[1m\u001b[36mINFO: \u001b[39m\u001b[22m\u001b[36mPrecompiling module DecisionTree.\n",
      "\u001b[39m"
     ]
    },
    {
     "name": "stdout",
     "output_type": "stream",
     "text": [
      "Loaded\n"
     ]
    }
   ],
   "source": [
    "Pkg.add(\"Images\")\n",
    "Pkg.add(\"DataFrames\")\n",
    "Pkg.add(\"ImageMagick\")\n",
    "Pkg.add(\"CSV\")\n",
    "Pkg.add(\"DecisionTree\")\n",
    "using Images\n",
    "using DataFrames\n",
    "using CSV\n",
    "using DecisionTree\n",
    "println(\"Loaded\")\n"
   ]
  },
  {
   "cell_type": "code",
   "execution_count": 27,
   "metadata": {},
   "outputs": [
    {
     "data": {
      "text/plain": [
       "read_data (generic function with 1 method)"
      ]
     },
     "execution_count": 27,
     "metadata": {},
     "output_type": "execute_result"
    }
   ],
   "source": [
    "function read_data(typeData, labelsInfo, imageSize, path)\n",
    "    # Reference: Kaggle First Steps with Julia - https://www.kaggle.com/c/street-view-getting-started-with-julia#julia-tutorial \n",
    "\n",
    "    # initialize matrix to hold the image\n",
    "    x::Array{Float32,2} = zeros(size(labelsInfo, 1), imageSize)\n",
    "\n",
    "    for (index, idImage) in enumerate(labelsInfo[:ID])\n",
    "        # read the image from file\n",
    "        nameFile = \"$(path)/$(typeData)Resized/$(idImage).Bmp\"\n",
    "        img = Images.load(nameFile)\n",
    "\n",
    "        # convert image to floats\n",
    "        temp = rawview(channelview(float32(img))) # sc scales the floats to between 0-1\n",
    "\n",
    "        # if colour, to have a consistent representation, we convert to grayscale\n",
    "        if ndims(temp) == 3 #  ndims returns the number of dimensions of array\n",
    "            temp = mean(temp, 1) # average across the first dimension\n",
    "        end\n",
    "\n",
    "        # transform image to vector\n",
    "        x[index, :] = reshape(temp,1,imageSize)::Array{Float32,2}\n",
    "    end\n",
    "\n",
    "    return x # x is a matrix of values, ith row containing a vector representing the\n",
    "            # pixel values of the ith image\n",
    "end"
   ]
  },
  {
   "cell_type": "code",
   "execution_count": 6,
   "metadata": {},
   "outputs": [
    {
     "data": {
      "text/plain": [
       "400"
      ]
     },
     "execution_count": 6,
     "metadata": {},
     "output_type": "execute_result"
    }
   ],
   "source": [
    "# path to data \n",
    "path = \"./data\"\n",
    "imageSize = 400 # 20 * 20 pixel data values"
   ]
  },
  {
   "cell_type": "code",
   "execution_count": 17,
   "metadata": {
    "collapsed": true
   },
   "outputs": [
    {
     "data": {
      "text/html": [
       "<table class=\"data-frame\"><thead><tr><th></th><th>ID</th><th>Class</th></tr></thead><tbody><tr><th>1</th><td>6284</td><td>A</td></tr><tr><th>2</th><td>6285</td><td>A</td></tr><tr><th>3</th><td>6286</td><td>A</td></tr><tr><th>4</th><td>6287</td><td>A</td></tr><tr><th>5</th><td>6288</td><td>A</td></tr><tr><th>6</th><td>6289</td><td>A</td></tr><tr><th>7</th><td>6290</td><td>A</td></tr><tr><th>8</th><td>6291</td><td>A</td></tr><tr><th>9</th><td>6292</td><td>A</td></tr><tr><th>10</th><td>6293</td><td>A</td></tr><tr><th>11</th><td>6294</td><td>A</td></tr><tr><th>12</th><td>6295</td><td>A</td></tr><tr><th>13</th><td>6296</td><td>A</td></tr><tr><th>14</th><td>6297</td><td>A</td></tr><tr><th>15</th><td>6298</td><td>A</td></tr><tr><th>16</th><td>6299</td><td>A</td></tr><tr><th>17</th><td>6300</td><td>A</td></tr><tr><th>18</th><td>6301</td><td>A</td></tr><tr><th>19</th><td>6302</td><td>A</td></tr><tr><th>20</th><td>6303</td><td>A</td></tr><tr><th>21</th><td>6304</td><td>A</td></tr><tr><th>22</th><td>6305</td><td>A</td></tr><tr><th>23</th><td>6306</td><td>A</td></tr><tr><th>24</th><td>6307</td><td>A</td></tr><tr><th>25</th><td>6308</td><td>A</td></tr><tr><th>26</th><td>6309</td><td>A</td></tr><tr><th>27</th><td>6310</td><td>A</td></tr><tr><th>28</th><td>6311</td><td>A</td></tr><tr><th>29</th><td>6312</td><td>A</td></tr><tr><th>30</th><td>6313</td><td>A</td></tr><tr><th>&vellip;</th><td>&vellip;</td><td>&vellip;</td></tr></tbody></table>"
      ],
      "text/plain": [
       "6220×2 DataFrames.DataFrame\n",
       "│ Row  │ ID    │ Class │\n",
       "├──────┼───────┼───────┤\n",
       "│ 1    │ 6284  │ A     │\n",
       "│ 2    │ 6285  │ A     │\n",
       "│ 3    │ 6286  │ A     │\n",
       "│ 4    │ 6287  │ A     │\n",
       "│ 5    │ 6288  │ A     │\n",
       "│ 6    │ 6289  │ A     │\n",
       "│ 7    │ 6290  │ A     │\n",
       "│ 8    │ 6291  │ A     │\n",
       "│ 9    │ 6292  │ A     │\n",
       "│ 10   │ 6293  │ A     │\n",
       "│ 11   │ 6294  │ A     │\n",
       "⋮\n",
       "│ 6209 │ 12492 │ A     │\n",
       "│ 6210 │ 12493 │ A     │\n",
       "│ 6211 │ 12494 │ A     │\n",
       "│ 6212 │ 12495 │ A     │\n",
       "│ 6213 │ 12496 │ A     │\n",
       "│ 6214 │ 12497 │ A     │\n",
       "│ 6215 │ 12498 │ A     │\n",
       "│ 6216 │ 12499 │ A     │\n",
       "│ 6217 │ 12500 │ A     │\n",
       "│ 6218 │ 12501 │ A     │\n",
       "│ 6219 │ 12502 │ A     │\n",
       "│ 6220 │ 12503 │ A     │"
      ]
     },
     "execution_count": 17,
     "metadata": {},
     "output_type": "execute_result"
    }
   ],
   "source": [
    "\n",
    "# load training data\n",
    "labelsInfoTrain = CSV.read(\"$(path)/trainLabels.csv\") # trainLabels contains extra data\n",
    "\n",
    "labelsInfoTest = CSV.read(\"$(path)/sampleSubmission.csv\") # testLabels contains testing metadata\n"
   ]
  },
  {
   "cell_type": "code",
   "execution_count": 28,
   "metadata": {
    "collapsed": true
   },
   "outputs": [
    {
     "name": "stderr",
     "output_type": "stream",
     "text": [
      "\u001b[1m\u001b[33mWARNING: \u001b[39m\u001b[22m\u001b[33mfloat32{C <: Colorant}(A::AbstractArray{C}) is deprecated, use float32.(A) instead.\u001b[39m\n",
      "Stacktrace:\n",
      " [1] \u001b[1mdepwarn\u001b[22m\u001b[22m\u001b[1m(\u001b[22m\u001b[22m::String, ::Symbol\u001b[1m)\u001b[22m\u001b[22m at \u001b[1m./deprecated.jl:70\u001b[22m\u001b[22m\n",
      " [2] \u001b[1mfloat32\u001b[22m\u001b[22m\u001b[1m(\u001b[22m\u001b[22m::Array{ColorTypes.RGB{FixedPointNumbers.Normed{UInt8,8}},2}\u001b[1m)\u001b[22m\u001b[22m at \u001b[1m./deprecated.jl:57\u001b[22m\u001b[22m\n",
      " [3] \u001b[1mread_data\u001b[22m\u001b[22m\u001b[1m(\u001b[22m\u001b[22m::String, ::DataFrames.DataFrame, ::Int64, ::String\u001b[1m)\u001b[22m\u001b[22m at \u001b[1m./In[27]:13\u001b[22m\u001b[22m\n",
      " [4] \u001b[1minclude_string\u001b[22m\u001b[22m\u001b[1m(\u001b[22m\u001b[22m::String, ::String\u001b[1m)\u001b[22m\u001b[22m at \u001b[1m./loading.jl:522\u001b[22m\u001b[22m\n",
      " [5] \u001b[1minclude_string\u001b[22m\u001b[22m\u001b[1m(\u001b[22m\u001b[22m::Module, ::String, ::String\u001b[1m)\u001b[22m\u001b[22m at \u001b[1m/home/gopiandcode/.julia/v0.6/Compat/src/Compat.jl:71\u001b[22m\u001b[22m\n",
      " [6] \u001b[1mexecute_request\u001b[22m\u001b[22m\u001b[1m(\u001b[22m\u001b[22m::ZMQ.Socket, ::IJulia.Msg\u001b[1m)\u001b[22m\u001b[22m at \u001b[1m/home/gopiandcode/.julia/v0.6/IJulia/src/execute_request.jl:158\u001b[22m\u001b[22m\n",
      " [7] \u001b[1m(::Compat.#inner#17{Array{Any,1},IJulia.#execute_request,Tuple{ZMQ.Socket,IJulia.Msg}})\u001b[22m\u001b[22m\u001b[1m(\u001b[22m\u001b[22m\u001b[1m)\u001b[22m\u001b[22m at \u001b[1m/home/gopiandcode/.julia/v0.6/Compat/src/Compat.jl:385\u001b[22m\u001b[22m\n",
      " [8] \u001b[1meventloop\u001b[22m\u001b[22m\u001b[1m(\u001b[22m\u001b[22m::ZMQ.Socket\u001b[1m)\u001b[22m\u001b[22m at \u001b[1m/home/gopiandcode/.julia/v0.6/IJulia/src/eventloop.jl:8\u001b[22m\u001b[22m\n",
      " [9] \u001b[1m(::IJulia.##14#17)\u001b[22m\u001b[22m\u001b[1m(\u001b[22m\u001b[22m\u001b[1m)\u001b[22m\u001b[22m at \u001b[1m./task.jl:335\u001b[22m\u001b[22m\n",
      "while loading In[28], in expression starting on line 1\n"
     ]
    },
    {
     "data": {
      "text/plain": [
       "6283×400 Array{Float32,2}:\n",
       " 0.267974   0.275817   0.27451    …  0.275817   0.278431   0.298039 \n",
       " 0.464052   0.462745   0.464052      0.457516   0.457516   0.457516 \n",
       " 0.254902   0.269281   0.249673      0.28366    0.266667   0.267974 \n",
       " 0.295425   0.304575   0.40915       0.437909   0.495425   0.508497 \n",
       " 0.0784314  0.0666667  0.0653595     0.0836601  0.0888889  0.0705882\n",
       " 0.460131   0.457516   0.460131   …  0.47451    0.466667   0.460131 \n",
       " 0.337255   0.339869   0.332026      0.34902    0.332026   0.334641 \n",
       " 0.243137   0.203922   0.231373      0.27451    0.287582   0.254902 \n",
       " 0.235294   0.227451   0.226144      0.214379   0.235294   0.223529 \n",
       " 0.788235   0.822222   0.853595      0.947713   0.94902    0.952941 \n",
       " 0.330719   0.330719   0.312418   …  0.419608   0.416993   0.407843 \n",
       " 0.301961   0.304575   0.308497      0.343791   0.279739   0.296732 \n",
       " 0.243137   0.67451    0.743791      0.2        0.138562   0.128105 \n",
       " ⋮                                ⋱                                 \n",
       " 0.619608   0.613072   0.614379      0.665359   0.611765   0.606536 \n",
       " 0.239216   0.286275   0.324183      0.478431   0.396078   0.320261 \n",
       " 0.571242   0.513726   0.51634       0.55817    0.569935   0.592157 \n",
       " 0.470588   0.481046   0.477124      0.479739   0.630065   0.368627 \n",
       " 0.504575   0.503268   0.504575   …  0.498039   0.509804   0.508497 \n",
       " 0.484967   0.484967   0.470588      0.362092   0.419608   0.45098  \n",
       " 0.39085    0.389543   0.385621      0.372549   0.379085   0.393464 \n",
       " 0.151634   0.0915033  0.0954249     0.275817   0.243137   0.179085 \n",
       " 0.583007   0.564706   0.560784      0.562092   0.541176   0.560784 \n",
       " 0.47451    0.470588   0.471895   …  0.458824   0.457516   0.467974 \n",
       " 0.769935   0.772549   0.776471      0.27451    0.301961   0.318954 \n",
       " 0.445752   0.435294   0.424837      0.426144   0.431373   0.426144 "
      ]
     },
     "execution_count": 28,
     "metadata": {},
     "output_type": "execute_result"
    }
   ],
   "source": [
    "xTrain = read_data(\"train\", labelsInfoTrain, imageSize, path)"
   ]
  },
  {
   "cell_type": "code",
   "execution_count": 30,
   "metadata": {
    "collapsed": true
   },
   "outputs": [
    {
     "name": "stderr",
     "output_type": "stream",
     "text": [
      "\u001b[1m\u001b[33mWARNING: \u001b[39m\u001b[22m\u001b[33mfloat32{C <: Colorant}(A::AbstractArray{C}) is deprecated, use float32.(A) instead.\u001b[39m\n",
      "Stacktrace:\n",
      " [1] \u001b[1mdepwarn\u001b[22m\u001b[22m\u001b[1m(\u001b[22m\u001b[22m::String, ::Symbol\u001b[1m)\u001b[22m\u001b[22m at \u001b[1m./deprecated.jl:70\u001b[22m\u001b[22m\n",
      " [2] \u001b[1mfloat32\u001b[22m\u001b[22m\u001b[1m(\u001b[22m\u001b[22m::Array{ColorTypes.RGB{FixedPointNumbers.Normed{UInt8,8}},2}\u001b[1m)\u001b[22m\u001b[22m at \u001b[1m./deprecated.jl:57\u001b[22m\u001b[22m\n",
      " [3] \u001b[1mread_data\u001b[22m\u001b[22m\u001b[1m(\u001b[22m\u001b[22m::String, ::DataFrames.DataFrame, ::Int64, ::String\u001b[1m)\u001b[22m\u001b[22m at \u001b[1m./In[27]:13\u001b[22m\u001b[22m\n",
      " [4] \u001b[1minclude_string\u001b[22m\u001b[22m\u001b[1m(\u001b[22m\u001b[22m::String, ::String\u001b[1m)\u001b[22m\u001b[22m at \u001b[1m./loading.jl:522\u001b[22m\u001b[22m\n",
      " [5] \u001b[1minclude_string\u001b[22m\u001b[22m\u001b[1m(\u001b[22m\u001b[22m::Module, ::String, ::String\u001b[1m)\u001b[22m\u001b[22m at \u001b[1m/home/gopiandcode/.julia/v0.6/Compat/src/Compat.jl:71\u001b[22m\u001b[22m\n",
      " [6] \u001b[1mexecute_request\u001b[22m\u001b[22m\u001b[1m(\u001b[22m\u001b[22m::ZMQ.Socket, ::IJulia.Msg\u001b[1m)\u001b[22m\u001b[22m at \u001b[1m/home/gopiandcode/.julia/v0.6/IJulia/src/execute_request.jl:158\u001b[22m\u001b[22m\n",
      " [7] \u001b[1m(::Compat.#inner#17{Array{Any,1},IJulia.#execute_request,Tuple{ZMQ.Socket,IJulia.Msg}})\u001b[22m\u001b[22m\u001b[1m(\u001b[22m\u001b[22m\u001b[1m)\u001b[22m\u001b[22m at \u001b[1m/home/gopiandcode/.julia/v0.6/Compat/src/Compat.jl:385\u001b[22m\u001b[22m\n",
      " [8] \u001b[1meventloop\u001b[22m\u001b[22m\u001b[1m(\u001b[22m\u001b[22m::ZMQ.Socket\u001b[1m)\u001b[22m\u001b[22m at \u001b[1m/home/gopiandcode/.julia/v0.6/IJulia/src/eventloop.jl:8\u001b[22m\u001b[22m\n",
      " [9] \u001b[1m(::IJulia.##14#17)\u001b[22m\u001b[22m\u001b[1m(\u001b[22m\u001b[22m\u001b[1m)\u001b[22m\u001b[22m at \u001b[1m./task.jl:335\u001b[22m\u001b[22m\n",
      "while loading In[30], in expression starting on line 1\n"
     ]
    },
    {
     "data": {
      "text/plain": [
       "6220×400 Array{Float32,2}:\n",
       " 0.470588  0.453595  0.457516   0.458824   …  0.890196  0.639216  0.490196\n",
       " 0.284967  0.279739  0.282353   0.294118      0.39085   0.326797  0.301961\n",
       " 0.115033  0.122876  0.0993464  0.0941177     0.185621  0.111111  0.105882\n",
       " 0.586928  0.586928  0.575163   0.584314      0.593464  0.568627  0.581699\n",
       " 0.496732  0.48366   0.501961   0.518954      0.156863  0.440523  0.541176\n",
       " 0.550327  0.550327  0.542484   0.542484   …  0.320261  0.300654  0.495425\n",
       " 0.156863  0.160784  0.14902    0.152941      0.150327  0.172549  0.169935\n",
       " 0.752941  0.752941  0.762092   0.780392      0.781699  0.786928  0.769935\n",
       " 0.708497  0.712418  0.708497   0.687582      0.751634  0.730719  0.698039\n",
       " 0.886275  0.879739  0.869281   0.845752      0.203922  0.329412  0.922876\n",
       " 0.245752  0.321569  0.392157   0.397386   …  0.257516  0.267974  0.271895\n",
       " 0.738562  0.781699  0.783007   0.779085      0.784314  0.784314  0.781699\n",
       " 0.405229  0.401307  0.414379   0.427451      0.405229  0.397386  0.405229\n",
       " ⋮                                         ⋱                              \n",
       " 0.479739  0.486275  0.501961   0.490196      0.171242  0.214379  0.211765\n",
       " 0.488889  0.484967  0.487582   0.486275      0.899347  0.803922  0.505882\n",
       " 0.320261  0.363399  0.491503   0.445752   …  0.261438  0.277124  0.31634 \n",
       " 0.752941  0.784314  0.756863   0.717647      0.763399  0.742484  0.726797\n",
       " 0.419608  0.426144  0.397386   0.394771      0.423529  0.405229  0.381699\n",
       " 0.24183   0.256209  0.337255   0.51634       0.261438  0.252288  0.249673\n",
       " 0.479739  0.484967  0.479739   0.482353      0.420915  0.462745  0.47451 \n",
       " 0.428758  0.426144  0.433987   0.430065   …  0.4       0.40915   0.410458\n",
       " 0.494118  0.588235  0.583007   0.59085       0.543791  0.59085   0.515033\n",
       " 0.379085  0.392157  0.40915    0.411765      0.375163  0.369935  0.368627\n",
       " 0.626144  0.67451   0.677124   0.596079      0.596078  0.602614  0.563399\n",
       " 0.437909  0.444444  0.44183    0.447059      0.40915   0.381699  0.420915"
      ]
     },
     "execution_count": 30,
     "metadata": {},
     "output_type": "execute_result"
    }
   ],
   "source": [
    "xTest = read_data(\"test\", labelsInfoTest, imageSize, path)"
   ]
  },
  {
   "cell_type": "code",
   "execution_count": 42,
   "metadata": {
    "collapsed": true
   },
   "outputs": [
    {
     "data": {
      "text/plain": [
       "6283-element CategoricalArrays.CategoricalArray{Any,1,UInt32}:\n",
       " 'n'\n",
       " '8'\n",
       " 'T'\n",
       " 'I'\n",
       " 'R'\n",
       " 'W'\n",
       " 'L'\n",
       " 'l'\n",
       " 'K'\n",
       " 'G'\n",
       " 'A'\n",
       " 'A'\n",
       " 'C'\n",
       " ⋮  \n",
       " 't'\n",
       " 'S'\n",
       " 'e'\n",
       " 'l'\n",
       " 'O'\n",
       " 'R'\n",
       " 'L'\n",
       " 'N'\n",
       " 'I'\n",
       " 'P'\n",
       " 'N'\n",
       " 'R'"
      ]
     },
     "execution_count": 42,
     "metadata": {},
     "output_type": "execute_result"
    }
   ],
   "source": [
    "yTrain = map(x -> x[1], labelsInfoTrain[:Class])"
   ]
  },
  {
   "cell_type": "code",
   "execution_count": 54,
   "metadata": {},
   "outputs": [
    {
     "data": {
      "text/plain": [
       "6283-element Array{Int64,1}:\n",
       " 110\n",
       "  56\n",
       "  84\n",
       "  73\n",
       "  82\n",
       "  87\n",
       "  76\n",
       " 108\n",
       "  75\n",
       "  71\n",
       "  65\n",
       "  65\n",
       "  67\n",
       "   ⋮\n",
       " 116\n",
       "  83\n",
       " 101\n",
       " 108\n",
       "  79\n",
       "  82\n",
       "  76\n",
       "  78\n",
       "  73\n",
       "  80\n",
       "  78\n",
       "  82"
      ]
     },
     "execution_count": 54,
     "metadata": {},
     "output_type": "execute_result"
    }
   ],
   "source": [
    "ytrain = map(x -> Int(x), Array(decompress(yTrain)))"
   ]
  },
  {
   "cell_type": "code",
   "execution_count": 58,
   "metadata": {},
   "outputs": [
    {
     "data": {
      "text/plain": [
       "Ensemble of Decision Trees\n",
       "Trees:      50\n",
       "Avg Leaves: 2229.12\n",
       "Avg Depth:  19.48"
      ]
     },
     "execution_count": 58,
     "metadata": {},
     "output_type": "execute_result"
    }
   ],
   "source": [
    "# train random forest with\n",
    "# 20 features at random splits\n",
    "# 50 trees\n",
    "# 1.0 subsamples \n",
    "# need to look up exactly how the random forest algorithm works \n",
    "model = build_forest(Array(yTrain), Array(xTrain), 20, 50, 1.0)"
   ]
  },
  {
   "cell_type": "code",
   "execution_count": 59,
   "metadata": {},
   "outputs": [
    {
     "data": {
      "text/plain": [
       "6220-element Array{Any,1}:\n",
       " 'H'\n",
       " 'E'\n",
       " 'A'\n",
       " 'O'\n",
       " 'S'\n",
       " 'i'\n",
       " '0'\n",
       " 'a'\n",
       " 'a'\n",
       " 'H'\n",
       " 'N'\n",
       " 'A'\n",
       " 'N'\n",
       " ⋮  \n",
       " 'A'\n",
       " 'A'\n",
       " 'a'\n",
       " 'c'\n",
       " 'E'\n",
       " 'A'\n",
       " 'V'\n",
       " 'o'\n",
       " 'D'\n",
       " 'A'\n",
       " 'R'\n",
       " 'M'"
      ]
     },
     "execution_count": 59,
     "metadata": {},
     "output_type": "execute_result"
    }
   ],
   "source": [
    "predTest = apply_forest(model, xTest)\n"
   ]
  },
  {
   "cell_type": "code",
   "execution_count": null,
   "metadata": {},
   "outputs": [],
   "source": []
  },
  {
   "cell_type": "code",
   "execution_count": 62,
   "metadata": {},
   "outputs": [
    {
     "data": {
      "text/plain": [
       "6220-element Array{Char,1}:\n",
       " 'H'\n",
       " 'E'\n",
       " 'A'\n",
       " 'O'\n",
       " 'S'\n",
       " 'i'\n",
       " '0'\n",
       " 'a'\n",
       " 'a'\n",
       " 'H'\n",
       " 'N'\n",
       " 'A'\n",
       " 'N'\n",
       " ⋮  \n",
       " 'A'\n",
       " 'A'\n",
       " 'a'\n",
       " 'c'\n",
       " 'E'\n",
       " 'A'\n",
       " 'V'\n",
       " 'o'\n",
       " 'D'\n",
       " 'A'\n",
       " 'R'\n",
       " 'M'"
      ]
     },
     "execution_count": 62,
     "metadata": {},
     "output_type": "execute_result"
    }
   ],
   "source": [
    "labelsInfoTest[:Class] = map(x -> Char(x), predTest)"
   ]
  },
  {
   "cell_type": "code",
   "execution_count": 74,
   "metadata": {},
   "outputs": [
    {
     "data": {
      "text/plain": [
       "CSV.Sink{Void,DataType}(    CSV.Options:\n",
       "        delim: ','\n",
       "        quotechar: '\"'\n",
       "        escapechar: '\\\\'\n",
       "        null: \"\"\n",
       "        dateformat: nothing\n",
       "        decimal: '.'\n",
       "        truestring: 'true'\n",
       "        falsestring: 'false', IOBuffer(data=UInt8[...], readable=true, writable=true, seekable=true, append=false, size=0, maxsize=Inf, ptr=1, mark=-1), \"./data/juliaSubmission.csv\", 9, true, String[\"ID\", \"Class\"], 2, false, Val{false})"
      ]
     },
     "execution_count": 74,
     "metadata": {},
     "output_type": "execute_result"
    }
   ],
   "source": [
    "CSV.write(\"$(path)/juliaSubmission.csv\", labelsInfoTest; header=true)"
   ]
  },
  {
   "cell_type": "code",
   "execution_count": null,
   "metadata": {},
   "outputs": [],
   "source": []
  }
 ],
 "metadata": {
  "kernelspec": {
   "display_name": "Julia 0.6.2",
   "language": "julia",
   "name": "julia-0.6"
  },
  "language_info": {
   "file_extension": ".jl",
   "mimetype": "application/julia",
   "name": "julia",
   "version": "0.6.2"
  }
 },
 "nbformat": 4,
 "nbformat_minor": 2
}
